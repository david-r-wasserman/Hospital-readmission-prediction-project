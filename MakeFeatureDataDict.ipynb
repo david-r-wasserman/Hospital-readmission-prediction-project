{
 "cells": [
  {
   "cell_type": "code",
   "execution_count": 1,
   "id": "3e090bbb-bd15-4b63-9a03-94892994c30a",
   "metadata": {},
   "outputs": [],
   "source": [
    "import json\n",
    "from sys import version\n",
    "\n",
    "import numpy as np\n",
    "import pandas as pd\n",
    "import sklearn\n",
    "from sklearn.model_selection import train_test_split"
   ]
  },
  {
   "cell_type": "code",
   "execution_count": 2,
   "id": "6ab33eb9-aabb-4a1e-acad-4a2682b4935e",
   "metadata": {},
   "outputs": [
    {
     "name": "stdout",
     "output_type": "stream",
     "text": [
      "Python version:  3.11.13 | packaged by Anaconda, Inc. | (main, Jun  5 2025, 13:03:15) [MSC v.1929 64 bit (AMD64)]\n"
     ]
    }
   ],
   "source": [
    "# Python version\n",
    "print('Python version: ', version)"
   ]
  },
  {
   "cell_type": "code",
   "execution_count": 3,
   "id": "62777286-d936-4392-bb84-f2afce10c6c5",
   "metadata": {},
   "outputs": [
    {
     "name": "stdout",
     "output_type": "stream",
     "text": [
      "numpy 2.0.1\n",
      "pandas 2.3.2\n",
      "scikit-learn 1.7.2\n"
     ]
    }
   ],
   "source": [
    "print('numpy', np.__version__)\n",
    "print('pandas', pd.__version__)\n",
    "print('scikit-learn', sklearn.__version__)"
   ]
  },
  {
   "cell_type": "markdown",
   "id": "533ae09e-8dc2-4393-9b64-ab5c8c6cd015",
   "metadata": {},
   "source": [
    "# 1 Data load"
   ]
  },
  {
   "cell_type": "code",
   "execution_count": 4,
   "id": "b92e5a5d-bd6b-48d0-91c2-a508f2be650c",
   "metadata": {},
   "outputs": [
    {
     "data": {
      "text/plain": [
       "(101766, 50)"
      ]
     },
     "execution_count": 4,
     "metadata": {},
     "output_type": "execute_result"
    }
   ],
   "source": [
    "df = pd.read_csv(\n",
    "    'diabetic_data.csv',\n",
    "    na_values='?',\n",
    "    keep_default_na=False,\n",
    "    dtype={\n",
    "        'diag_1': 'object',\n",
    "        'diag_2': 'object',\n",
    "        'diag_3': 'object',\n",
    "        'payer_code': 'object'}\n",
    "    )\n",
    "df.shape"
   ]
  },
  {
   "cell_type": "code",
   "execution_count": 5,
   "id": "a2e1232d-37f8-4362-8dca-d0f9a4e1ab7c",
   "metadata": {},
   "outputs": [
    {
     "data": {
      "text/plain": [
       "(101766, 50)"
      ]
     },
     "execution_count": 5,
     "metadata": {},
     "output_type": "execute_result"
    }
   ],
   "source": [
    "# Read the codes and their meanings from IDS_mapping.csv\n",
    "admission_type = pd.read_csv(\n",
    "    'IDS_mapping.csv',\n",
    "    index_col=0,\n",
    "    nrows=8)\n",
    "discharge_disposition = pd.read_csv(\n",
    "    'IDS_mapping.csv',\n",
    "    index_col=0,\n",
    "    skiprows=10,\n",
    "    nrows=30)\n",
    "admission_source = pd.read_csv(\n",
    "    'IDS_mapping.csv',\n",
    "    index_col=0,\n",
    "    skiprows=42)\n",
    "\n",
    "# Create dicts to make codes to meanings\n",
    "admission_type_dict = admission_type.description.to_dict()\n",
    "discharge_disposition_dict = discharge_disposition.description.to_dict()\n",
    "admission_source_dict = admission_source.description.to_dict()\n",
    "\n",
    "# Add columns to df that have the meanings of the codes\n",
    "df['admission_type'] = df.admission_type_id.replace(\n",
    "    admission_type_dict,\n",
    "    inplace=False)\n",
    "df['discharge_disposition'] = df.discharge_disposition_id.replace(\n",
    "    discharge_disposition_dict,\n",
    "    inplace=False)\n",
    "df['admission_source'] = df.admission_source_id.replace(\n",
    "    admission_source_dict,\n",
    "    inplace=False)\n",
    "\n",
    "# Remove the columns that have the codes\n",
    "df.drop(columns=[\n",
    "    'admission_type_id',\n",
    "    'discharge_disposition_id',\n",
    "    'admission_source_id'],\n",
    "        inplace=True)\n",
    "\n",
    "# We should still have the same number of columns\n",
    "df.shape"
   ]
  },
  {
   "cell_type": "code",
   "execution_count": 6,
   "id": "2d0648e3-2bba-48da-8192-f9d0fc078485",
   "metadata": {},
   "outputs": [
    {
     "data": {
      "text/plain": [
       "((101766, 49), (101766,))"
      ]
     },
     "execution_count": 6,
     "metadata": {},
     "output_type": "execute_result"
    }
   ],
   "source": [
    "# The 'readmitted' column is the output. We only care about readmission\n",
    "# within 30 days\n",
    "y = (df['readmitted'] == '<30').astype(int)\n",
    "df = df.drop(columns=['readmitted'])\n",
    "(df.shape, y.shape)"
   ]
  },
  {
   "cell_type": "markdown",
   "id": "e0b5e4c3-f51a-4797-a37e-73dba305426c",
   "metadata": {},
   "source": [
    "# 2 Scoping"
   ]
  },
  {
   "cell_type": "code",
   "execution_count": 7,
   "id": "50880daf-3c12-43a0-b56c-72f5674b5026",
   "metadata": {},
   "outputs": [
    {
     "data": {
      "text/plain": [
       "((100114, 49), (100114,))"
      ]
     },
     "execution_count": 7,
     "metadata": {},
     "output_type": "execute_result"
    }
   ],
   "source": [
    "df = df[~df['discharge_disposition'].str.contains(\n",
    "    'expired',\n",
    "    case=False,\n",
    "    na=False,\n",
    ")]\n",
    "y = y[df.index]\n",
    "df.shape, y.shape"
   ]
  },
  {
   "cell_type": "markdown",
   "id": "0e9fe025-da6b-458f-9df3-46f1ebf037d0",
   "metadata": {},
   "source": [
    "# 3 Preventing leakage"
   ]
  },
  {
   "cell_type": "code",
   "execution_count": 8,
   "id": "df495010-fd0c-49f4-b853-ebd417745124",
   "metadata": {},
   "outputs": [
    {
     "data": {
      "text/plain": [
       "((70439, 49), (70439,))"
      ]
     },
     "execution_count": 8,
     "metadata": {},
     "output_type": "execute_result"
    }
   ],
   "source": [
    "df.drop_duplicates(subset=['patient_nbr'], inplace=True)\n",
    "y = y[df.index]\n",
    "df.shape, y.shape"
   ]
  },
  {
   "cell_type": "markdown",
   "id": "532c2a46-e9a1-429c-ad5e-063535b7f22f",
   "metadata": {},
   "source": [
    "# 4. Separating training data from test set\n",
    "I will save 5000 samples for testing. It is common to save 20%, but I think 5000 is enough to accurately evaluate the model."
   ]
  },
  {
   "cell_type": "code",
   "execution_count": 9,
   "id": "d4ba7d40-edd1-4a05-be4c-5dd912c9730c",
   "metadata": {},
   "outputs": [
    {
     "data": {
      "text/plain": [
       "[(65439, 49), (5000, 49), (65439,), (5000,)]"
      ]
     },
     "execution_count": 9,
     "metadata": {},
     "output_type": "execute_result"
    }
   ],
   "source": [
    "X_train, X_test, y_train, y_test = train_test_split(\n",
    "    df, y, test_size=5000, random_state=0)\n",
    "[z.shape for z in [X_train, X_test, y_train, y_test]]"
   ]
  },
  {
   "cell_type": "markdown",
   "id": "d2d7267b-e26e-4482-be5e-b27ac5d480bb",
   "metadata": {},
   "source": [
    "# 6 Removing inconsistent data from the training set"
   ]
  },
  {
   "cell_type": "code",
   "execution_count": 10,
   "id": "3dc27045-5c86-48cd-968d-99edd598fe6a",
   "metadata": {},
   "outputs": [],
   "source": [
    "code_columns_list = ['diag_1', 'diag_2', 'diag_3']"
   ]
  },
  {
   "cell_type": "code",
   "execution_count": 11,
   "id": "7356069e-8973-4c63-9686-f70fc9a43513",
   "metadata": {},
   "outputs": [],
   "source": [
    "def fill_pattern(row: pd.Series) -> str:\n",
    "    '''\n",
    "    Indicate which of the ICD-9 columns are filled for a row of X_train\n",
    "\n",
    "    Args:\n",
    "        row: pandas Series; a row of X_train\n",
    "    Returns:\n",
    "        string\n",
    "    '''\n",
    "    filled = ['Blank' if row.isna().loc[col] else 'Filled'\n",
    "              for col in code_columns_list]\n",
    "    return ', '.join(filled)"
   ]
  },
  {
   "cell_type": "code",
   "execution_count": 12,
   "id": "6eb5e9e6-54db-4254-a876-7cb2cc6661fb",
   "metadata": {},
   "outputs": [],
   "source": [
    "X_train['diag_filled'] = X_train.apply(fill_pattern, axis=1)"
   ]
  },
  {
   "cell_type": "code",
   "execution_count": 13,
   "id": "f91de40f-99c2-4196-aee5-e8efdd21c704",
   "metadata": {},
   "outputs": [],
   "source": [
    "def diag_consistent(row: pd.Series) -> bool:\n",
    "    '''\n",
    "    Check if the diagnosis columns are consistent for a row of X_train\n",
    "\n",
    "    Args:\n",
    "        row: pandas Series, a row a X_train\n",
    "    Returns:\n",
    "        boolean\n",
    "    '''\n",
    "    if row.number_diagnoses == 1:\n",
    "        return row.diag_filled == 'Filled, Blank, Blank'\n",
    "    if row.number_diagnoses == 2:\n",
    "        return row.diag_filled == 'Filled, Filled, Blank'\n",
    "    return row.diag_filled == 'Filled, Filled, Filled'"
   ]
  },
  {
   "cell_type": "code",
   "execution_count": 14,
   "id": "f120f862-9d52-4ff1-b6a9-bd38a268b18f",
   "metadata": {},
   "outputs": [
    {
     "data": {
      "text/plain": [
       "((65251, 49), (65251,))"
      ]
     },
     "execution_count": 14,
     "metadata": {},
     "output_type": "execute_result"
    }
   ],
   "source": [
    "X_train['diag_consistent'] = X_train.apply(diag_consistent, axis=1)\n",
    "y_train = y_train[X_train.diag_consistent]\n",
    "X_train = X_train[X_train.diag_consistent]\n",
    "# The columns diag_consistent and diag_filled won't be needed again\n",
    "X_train = X_train.drop(columns=['diag_consistent', 'diag_filled'])\n",
    "(X_train.shape, y_train.shape)"
   ]
  },
  {
   "cell_type": "code",
   "execution_count": 15,
   "id": "d8ac8148-dd3a-4ae0-b12e-887ea88ab929",
   "metadata": {},
   "outputs": [],
   "source": [
    "X_train.loc[\n",
    "    X_train.diag_1.notna() & (X_train.diag_1 == X_train.diag_2),\n",
    "    'diag_2'] = np.nan\n",
    "X_train.loc[\n",
    "    X_train.diag_1.notna() & (X_train.diag_1 == X_train.diag_3),\n",
    "    'diag_3'] = np.nan\n",
    "X_train.loc[\n",
    "    X_train.diag_2.notna() & (X_train.diag_2 == X_train.diag_3),\n",
    "    'diag_3'] = np.nan"
   ]
  },
  {
   "cell_type": "code",
   "execution_count": 16,
   "id": "e0a277fa-d3f7-4c88-a340-49c90fb2fb05",
   "metadata": {},
   "outputs": [
    {
     "data": {
      "text/plain": [
       "((65236, 49), (65236,))"
      ]
     },
     "execution_count": 16,
     "metadata": {},
     "output_type": "execute_result"
    }
   ],
   "source": [
    "age_inconsistent = (\n",
    "    ((X_train.admission_type == 'Newborn') & ~(X_train.age == '[0-10)'))\n",
    "    | (X_train.discharge_disposition ==\n",
    "       'Neonate discharged to another hospital for neonatal aftercare')\n",
    "    | (X_train.admission_source == ' Sick Baby')\n",
    "    | (X_train.admission_source == ' Extramural Birth')\n",
    ")\n",
    "y_train = y_train[~age_inconsistent]\n",
    "X_train = X_train[~age_inconsistent]\n",
    "(X_train.shape, y_train.shape)"
   ]
  },
  {
   "cell_type": "markdown",
   "id": "926049ee-a878-4f58-bf1d-02c878b15402",
   "metadata": {},
   "source": [
    "# 7 Feature selection"
   ]
  },
  {
   "cell_type": "code",
   "execution_count": 17,
   "id": "6663b298-7b6d-46e9-ad7c-16e94a9e7a59",
   "metadata": {},
   "outputs": [],
   "source": [
    "feature_data_dict = dict()"
   ]
  },
  {
   "cell_type": "markdown",
   "id": "2c6312c7-ab38-4649-aa76-d2915475ddcc",
   "metadata": {},
   "source": [
    "## 7.1 Diagnosis codes"
   ]
  },
  {
   "cell_type": "code",
   "execution_count": 18,
   "id": "93e8c5c2-2564-4acf-a46c-1ef37ed7c27a",
   "metadata": {},
   "outputs": [],
   "source": [
    "X_train.loc[\n",
    "    X_train.diag_1.notna() & (X_train.diag_1 == X_train.diag_2),\n",
    "    'diag_2'] = np.nan\n",
    "X_train.loc[\n",
    "    X_train.diag_1.notna() & (X_train.diag_1 == X_train.diag_3),\n",
    "    'diag_3'] = np.nan\n",
    "X_train.loc[\n",
    "    X_train.diag_2.notna() & (X_train.diag_2 == X_train.diag_3),\n",
    "    'diag_3'] = np.nan"
   ]
  },
  {
   "cell_type": "code",
   "execution_count": 19,
   "id": "254d251b-15a4-4f13-b2f6-b83ceba49df7",
   "metadata": {},
   "outputs": [],
   "source": [
    "all_codes = X_train[code_columns_list].stack()\n",
    "code_counts = all_codes.value_counts()\n",
    "codes_with_children = ['250'] + ['250.' + str(i) for i in range(10)]\n",
    "for code in codes_with_children:\n",
    "    code_counts.loc[code] = all_codes.str.startswith(code).sum()"
   ]
  },
  {
   "cell_type": "code",
   "execution_count": 20,
   "id": "f9f74577-850f-4e53-a486-c38bf545447d",
   "metadata": {},
   "outputs": [],
   "source": [
    "def make_code_feature(\n",
    "    X_train: pd.DataFrame,\n",
    "    code: str,\n",
    "    code_columns: list = code_columns_list\n",
    ") -> pd.Series:\n",
    "    '''\n",
    "    Make a feature representing an ICD-9 code.\n",
    "\n",
    "    Args:\n",
    "        X_train: Pandas DataFrame; its columns must include everything in\n",
    "            code_columns\n",
    "        code: string, ICD-9 code\n",
    "        code_columns: list of strings\n",
    "\n",
    "    Returns:\n",
    "        Pandas boolean Series, with same index as X_train, indicating which\n",
    "            patients have this code in one of the code_columns\n",
    "    '''\n",
    "    if code.startswith('250'):\n",
    "        col = code_columns[0]\n",
    "        feature = X_train[col].str.startswith(code)\n",
    "        for col in code_columns[1:]:\n",
    "            feature = feature | X_train[col].str.startswith(code)\n",
    "    else:\n",
    "        # we can't use startswith for all the codes, because some of them\n",
    "        # are less than 3 characters (the leading zeroes are missing), so\n",
    "        # this would pick up other 3-digit codes\n",
    "        col = code_columns[0]\n",
    "        feature = X_train[col] == code\n",
    "        for col in code_columns[1:]:\n",
    "            feature = feature | (X_train[col] == code)\n",
    "    return feature"
   ]
  },
  {
   "cell_type": "code",
   "execution_count": 21,
   "id": "b9517dcb-440b-4e9e-b69e-11afbb8da96e",
   "metadata": {},
   "outputs": [],
   "source": [
    "feature_data_dict['common_codes'] = list(code_counts[code_counts >= 100].index)"
   ]
  },
  {
   "cell_type": "code",
   "execution_count": 22,
   "id": "c9912c80-2de5-4539-881c-ddb82351ea81",
   "metadata": {},
   "outputs": [],
   "source": [
    "code_counts = X_train.diag_1.value_counts()\n",
    "\n",
    "for code in codes_with_children:\n",
    "    code_counts.loc[code] = X_train.diag_1.str.startswith(code).sum()\n",
    "\n",
    "feature_data_dict['common_primary_codes'] = list(\n",
    "    code_counts[code_counts >= 100].index\n",
    ")"
   ]
  },
  {
   "cell_type": "code",
   "execution_count": 23,
   "id": "ab977ae0-711a-47f0-9bda-b0bcb86de8c7",
   "metadata": {},
   "outputs": [],
   "source": [
    "ranges = [\n",
    "    (1, 139),\n",
    "    (140, 239),\n",
    "    (240, 279),\n",
    "    (280, 289),\n",
    "    (290, 319),\n",
    "    (320, 389),\n",
    "    (390, 459),\n",
    "    (460, 519),\n",
    "    (520, 579),\n",
    "    (580, 629),\n",
    "    (630, 679),\n",
    "    (680, 709),\n",
    "    (710, 739),\n",
    "    (740, 759),\n",
    "    (760, 779),\n",
    "    (780, 799),\n",
    "    (800, 999)\n",
    "]\n",
    "ranges.remove((760, 779))\n",
    "feature_data_dict['code_ranges'] = ranges[:]"
   ]
  },
  {
   "cell_type": "code",
   "execution_count": 24,
   "id": "e6b5faf7-6c20-4a2b-97b8-28bed324bbac",
   "metadata": {},
   "outputs": [],
   "source": [
    "ranges.remove((740, 759))\n",
    "feature_data_dict['primary_code_ranges'] = ranges"
   ]
  },
  {
   "cell_type": "markdown",
   "id": "d1b23e0b-f199-47e4-92bf-753e9a9be955",
   "metadata": {},
   "source": [
    "## 7.2 Other categorical features"
   ]
  },
  {
   "cell_type": "code",
   "execution_count": 25,
   "id": "26faee87-884c-43aa-8bce-2aec86e4a4ce",
   "metadata": {},
   "outputs": [],
   "source": [
    "races = list(X_train.race.dropna().unique())\n",
    "races.remove('Other')\n",
    "feature_data_dict['races'] = races"
   ]
  },
  {
   "cell_type": "code",
   "execution_count": 26,
   "id": "dec51819-b275-46ae-917d-d842017cd989",
   "metadata": {},
   "outputs": [],
   "source": [
    "payer_counts = X_train.payer_code.value_counts()\n",
    "feature_data_dict['common_payers'] = list(\n",
    "    payer_counts[payer_counts >= 100].index\n",
    ")"
   ]
  },
  {
   "cell_type": "code",
   "execution_count": 27,
   "id": "8fa5ae39-42cb-4cb7-9364-ffdd33ae1f3f",
   "metadata": {},
   "outputs": [],
   "source": [
    "specialty_counts = X_train.medical_specialty.value_counts()\n",
    "feature_data_dict['common_specialties'] = list(\n",
    "    specialty_counts[specialty_counts >= 100].index\n",
    ")"
   ]
  },
  {
   "cell_type": "code",
   "execution_count": 28,
   "id": "f6320adb-a1bc-4c37-b7d0-273e692e5d58",
   "metadata": {},
   "outputs": [],
   "source": [
    "feature_data_dict['glucose_results'] = ['Norm', '>200', '>300']\n",
    "feature_data_dict['a1c_results'] = ['Norm', '>7', '>8']"
   ]
  },
  {
   "cell_type": "code",
   "execution_count": 29,
   "id": "6d013a52-7156-49e3-8b10-0215db3246fc",
   "metadata": {},
   "outputs": [],
   "source": [
    "specific_med_columns = [\n",
    "    'metformin', 'repaglinide', 'nateglinide', 'chlorpropamide', 'glimepiride',\n",
    "    'acetohexamide', 'glipizide', 'glyburide', 'tolbutamide', 'pioglitazone',\n",
    "    'rosiglitazone', 'acarbose', 'miglitol', 'troglitazone', 'tolazamide',\n",
    "    'examide', 'sitagliptin', 'insulin', 'glyburide-metformin',\n",
    "    'glipizide-metformin', 'glimepiride-pioglitazone',\n",
    "    'metformin-rosiglitazone', 'metformin-pioglitazone'\n",
    "]\n",
    "X_train.rename(columns={'citoglipton': 'sitagliptin'}, inplace=True)"
   ]
  },
  {
   "cell_type": "code",
   "execution_count": 30,
   "id": "b6fb06cf-b7e8-4f27-bf73-836d3b033cdd",
   "metadata": {},
   "outputs": [
    {
     "name": "stdout",
     "output_type": "stream",
     "text": [
      "(65236, 69)\n"
     ]
    }
   ],
   "source": [
    "med_features_train = pd.DataFrame(\n",
    "    index=X_train.index,\n",
    "    columns=specific_med_columns,\n",
    ")\n",
    "\n",
    "for col in specific_med_columns:\n",
    "    # Since there are no missing values, any value other than\n",
    "    # 'No' is a patient who took this medication\n",
    "    med_features_train[col] = ~(X_train[col] == 'No')\n",
    "\n",
    "num_specific_meds_train = med_features_train.sum(axis=1)\n",
    "\n",
    "med_features_up_train = pd.DataFrame(\n",
    "    index=X_train.index,\n",
    "    columns=[col + '_up' for col in specific_med_columns],\n",
    ")\n",
    "med_features_down_train = pd.DataFrame(\n",
    "    index=X_train.index,\n",
    "    columns=[col + '_down' for col in specific_med_columns],\n",
    ")\n",
    "for col in specific_med_columns:\n",
    "    med_features_up_train[col + '_up'] = (X_train[col] == 'Up')\n",
    "    med_features_down_train[col + '_down'] = (X_train[col] == 'Down')\n",
    "\n",
    "# Combine all med categorical features\n",
    "med_features_train = pd.concat(\n",
    "    [med_features_train, med_features_up_train, med_features_down_train],\n",
    "    axis=1,\n",
    "    copy=False,\n",
    ")\n",
    "print(med_features_train.shape)"
   ]
  },
  {
   "cell_type": "code",
   "execution_count": 31,
   "id": "bfa0b549-9e0d-4e2f-9828-4ef9f15e93d3",
   "metadata": {},
   "outputs": [],
   "source": [
    "med_feature_sums_train = med_features_train.sum(axis=0)\n",
    "feature_data_dict['med_features'] = list(\n",
    "    med_feature_sums_train[med_feature_sums_train >= 100].index\n",
    ")"
   ]
  },
  {
   "cell_type": "code",
   "execution_count": 32,
   "id": "08a7f377-c956-4a04-8835-56f17321aad8",
   "metadata": {},
   "outputs": [],
   "source": [
    "admit_type_counts = X_train.admission_type.value_counts()\n",
    "feature_data_dict['common_admit_types'] = list(\n",
    "    admit_type_counts[admit_type_counts >= 100].index\n",
    ")"
   ]
  },
  {
   "cell_type": "code",
   "execution_count": 33,
   "id": "2c21ca64-56f3-4641-b188-4c56da9a12d8",
   "metadata": {},
   "outputs": [],
   "source": [
    "admit_source_counts = X_train.admission_source.value_counts()\n",
    "feature_data_dict['common_admit_sources'] = list(\n",
    "    admit_source_counts[admit_source_counts >= 100].index\n",
    ")"
   ]
  },
  {
   "cell_type": "code",
   "execution_count": 34,
   "id": "cf96e0c1-b199-454c-8801-6d1b89dfc063",
   "metadata": {},
   "outputs": [],
   "source": [
    "discharge_counts = X_train.discharge_disposition.value_counts()\n",
    "feature_data_dict['common_discharges'] = list(\n",
    "    discharge_counts[discharge_counts >= 100].index\n",
    ")\n",
    "discharge_keywords = {\n",
    "    'home': ['home'],\n",
    "    'hospital': [\n",
    "        'hospital',\n",
    "        'swing bed',\n",
    "    ],\n",
    "    'facility': [\n",
    "        'to SNF',\n",
    "        'to another type of inpatient care institution',\n",
    "        'to ICF',\n",
    "        'Hospice / medical facility',\n",
    "        'to a nursing facility',\n",
    "        'to a federal health care facility',\n",
    "    ],\n",
    "}\n",
    "feature_data_dict['discharge_keywords'] = discharge_keywords"
   ]
  },
  {
   "cell_type": "code",
   "execution_count": 35,
   "id": "c6c2a4cb-5f1b-4b83-8433-0c9f90156cc0",
   "metadata": {},
   "outputs": [],
   "source": [
    "with open('feature_data.json', 'w') as fp:\n",
    "    json.dump(feature_data_dict, fp)"
   ]
  },
  {
   "cell_type": "code",
   "execution_count": null,
   "id": "1a3efc42-65c3-490a-a57b-63cb896805c6",
   "metadata": {},
   "outputs": [],
   "source": []
  }
 ],
 "metadata": {
  "kernelspec": {
   "display_name": "Python 3 (ipykernel)",
   "language": "python",
   "name": "python3"
  },
  "language_info": {
   "codemirror_mode": {
    "name": "ipython",
    "version": 3
   },
   "file_extension": ".py",
   "mimetype": "text/x-python",
   "name": "python",
   "nbconvert_exporter": "python",
   "pygments_lexer": "ipython3",
   "version": "3.11.13"
  }
 },
 "nbformat": 4,
 "nbformat_minor": 5
}
